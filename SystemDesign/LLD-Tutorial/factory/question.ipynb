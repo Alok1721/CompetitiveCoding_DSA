{
 "cells": [
  {
   "cell_type": "markdown",
   "id": "1a7c0fdb",
   "metadata": {},
   "source": [
    "Q1) ***Design a system where a client (like a drawing app) can create different shapes (e.g., Circle, Square, Rectangle) based on user input, but without hardcoding the exact shape in the client code. If we add a new shape later (like Triangle), the system shouldn't break.***"
   ]
  },
  {
   "cell_type": "markdown",
   "id": "6cd2225e",
   "metadata": {},
   "source": []
  }
 ],
 "metadata": {
  "language_info": {
   "name": "python"
  }
 },
 "nbformat": 4,
 "nbformat_minor": 5
}
