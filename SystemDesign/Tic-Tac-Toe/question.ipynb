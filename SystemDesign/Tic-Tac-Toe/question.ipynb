{
 "cells": [
  {
   "cell_type": "markdown",
   "id": "7154e7c3",
   "metadata": {},
   "source": [
    "Design the Tic-Tac-Toe Game:\n",
    "\n",
    "Functional Requirements :\n",
    "\n",
    "1).It is a two player game.\n",
    "2).The gaming board can be of any size or cells\n",
    "3).The game stops if one player wins\n",
    "4).The game can be draw if no one wins\n",
    "5).We keep track of winner"
   ]
  },
  {
   "cell_type": "markdown",
   "id": "761d132f",
   "metadata": {},
   "source": []
  }
 ],
 "metadata": {
  "language_info": {
   "name": "python"
  }
 },
 "nbformat": 4,
 "nbformat_minor": 5
}
